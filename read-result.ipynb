{
 "cells": [
  {
   "cell_type": "code",
   "execution_count": 126,
   "id": "c1758596-23c5-4005-b7d4-164cc2a51b5b",
   "metadata": {},
   "outputs": [],
   "source": [
    "import os"
   ]
  },
  {
   "cell_type": "code",
   "execution_count": 128,
   "id": "42d806af-b53e-4f6d-ae25-fc5515f54db4",
   "metadata": {},
   "outputs": [],
   "source": [
    "# !rm -rf ./output/topic-length/gen_samples/.ipynb_checkpoints"
   ]
  },
  {
   "cell_type": "code",
   "execution_count": 129,
   "id": "31b5f6cf-92b8-47e9-8cfb-d8831c02807e",
   "metadata": {},
   "outputs": [],
   "source": [
    "def list_all_file(path):\n",
    "    dir_list = os.listdir(path)\n",
    "    sort_dir_list = sorted(dir_list)\n",
    "    return sort_dir_list"
   ]
  },
  {
   "cell_type": "code",
   "execution_count": 132,
   "id": "84c32e64-b624-4ad2-b973-ce6ad7a7b277",
   "metadata": {},
   "outputs": [],
   "source": [
    "def extract_file(file_name):\n",
    "    with open(file_name) as f:\n",
    "        lines = f.readlines()\n",
    "    particular_value = 'Generate Summary:\\n'\n",
    "    result = []\n",
    "    temp_list = []\n",
    "    for i in lines:\n",
    "        if i == particular_value:\n",
    "            temp_list.append(i)\n",
    "            result.append(temp_list)\n",
    "            temp_list = []\n",
    "        else:\n",
    "            temp_list.append(i)\n",
    "    # print(temp_list)\n",
    "    generate = temp_list[0]\n",
    "    return generate"
   ]
  },
  {
   "cell_type": "code",
   "execution_count": 133,
   "id": "d079f72a-c811-4a70-b247-1e16a35259cd",
   "metadata": {},
   "outputs": [],
   "source": [
    "def make_name(path, filename):\n",
    "    name, sum = filename.split('_sum')\n",
    "    summ, _ = sum.split('.txt')\n",
    "    summary = \"summary\" + summ\n",
    "    return name, summary"
   ]
  },
  {
   "cell_type": "code",
   "execution_count": 135,
   "id": "aba9bf3f-e429-44bb-bc8b-5d4e372f7896",
   "metadata": {},
   "outputs": [],
   "source": [
    "def build_result(path, filename):\n",
    "    name, summary = make_name(path, filename)\n",
    "    local_path = path + filename\n",
    "    texts = extract_file(local_path)\n",
    "    return name, summary, texts"
   ]
  },
  {
   "cell_type": "code",
   "execution_count": 137,
   "id": "0b1eafc0-1e94-4d6a-81aa-4ab0a815e917",
   "metadata": {},
   "outputs": [],
   "source": [
    "list_method = ['baseline', 'topic', 'length', 'topic-length', 'length-topic']\n",
    "result_dict = {}\n",
    "list_dir = []\n",
    "for i in list_method:\n",
    "    deep_path = \"./output/\" + i + \"/gen_samples/\"\n",
    "    dir_list = os.listdir(deep_path)\n",
    "    list_dir.append(deep_path)\n",
    "    # print(deep_path)\n",
    "    sort_dir_list = sorted(dir_list)\n",
    "    # print(sort_dir_list[:5])\n",
    "    # nums = []\n",
    "    # sums = []\n",
    "    # gens = []\n",
    "    keep = []\n",
    "    for j in range(0,len(sort_dir_list),3):\n",
    "        method_dict = {}\n",
    "        try:\n",
    "            # print(j)\n",
    "            num1, sum1, gen1 = build_result(deep_path, sort_dir_list[j])\n",
    "            num2, sum2, gen2 = build_result(deep_path, sort_dir_list[j+1])\n",
    "            num3, sum3, gen3 = build_result(deep_path, sort_dir_list[j+2])\n",
    "            method_dict['fname'] = num1\n",
    "            # print(num1)\n",
    "            method_dict['gen_' + sum1] = gen1\n",
    "            method_dict['gen_' + sum2] = gen2\n",
    "            method_dict['gen_' + sum3] = gen3\n",
    "        except:\n",
    "            pass\n",
    "        keep.append(method_dict)\n",
    "    result_dict[i] = keep    "
   ]
  },
  {
   "cell_type": "code",
   "execution_count": 138,
   "id": "1be89a18-f215-4941-bc12-05b1caf6cc61",
   "metadata": {},
   "outputs": [
    {
     "data": {
      "text/plain": [
       "[{'fname': 'test_0',\n",
       "  'summary1': '#Person1# asks Ms. Dawson to take a dictation for him and asks her to send an intra-office memorandum to all employees by this afternoon. The memo says the use of Instant Message programs by employees during working hours is strictly prohibited and applies to internal and external communications.',\n",
       "  'summary2': '#Person1# asks Ms. Dawson to take a dictation for him and asks her to send an intra-office memorandum to all employees by this afternoon. The memo says the use of Instant Message programs by employees during working hours is strictly prohibited and applies to internal and external communications. Any employee who persists in using Instant Messaging will first receive a warning and be placed on probation.',\n",
       "  'summary3': '#Person1# asks Ms. Dawson to take a dictation for him and asks her to send an intra-office memorandum to all employees by this afternoon. The memo says the use of Instant Message programs by employees during working hours is strictly prohibited and applies to internal and external communications.'},\n",
       " {'fname': 'test_100',\n",
       "  'summary1': '#Person1# and #Person2# are talking about the election of Trump. They both think he is not the right person for the job. #Person1 # will vote for Biden.',\n",
       "  'summary2': \"#Person1# and #Person2# are talking about whether Trump will be re-elected as President. They both think he isn't the right person.\",\n",
       "  'summary3': '#Person1# and #Person2# are talking about whether Trump is the right person for President.'},\n",
       " {'fname': 'test_101',\n",
       "  'summary1': '#Person2# teaches #Person1# how to use the ATM, which is a new experience for #Person 1#.',\n",
       "  'summary2': '#Person2# teaches #Person1# how to use the ATM.',\n",
       "  'summary3': '#Person2# shows #Person1# how to use the ATM, which is a new experience for #Person 1#.'},\n",
       " {'fname': 'test_102',\n",
       "  'summary1': \"Susan asks John where the memo about office procedures is. John doesn't know.\",\n",
       "  'summary2': \"Susan asks John where the memo about office procedures is but John doesn't know.\",\n",
       "  'summary3': 'Susan asks John where the memo about office procedures is.'},\n",
       " {'fname': 'test_103',\n",
       "  'summary1': '#Person1# invites Lily to the picnic. Lily agrees.',\n",
       "  'summary2': '#Person1# invites Lily to the picnic and tells her what to bring. Lily agrees.',\n",
       "  'summary3': '#Person1# invites Lily to the picnic and tells her what to bring.'}]"
      ]
     },
     "execution_count": 138,
     "metadata": {},
     "output_type": "execute_result"
    }
   ],
   "source": [
    "result_dict['length'][:5]"
   ]
  },
  {
   "cell_type": "code",
   "execution_count": 139,
   "id": "0b3de40b-d0d6-4865-88a6-eb4dc0ae5779",
   "metadata": {},
   "outputs": [
    {
     "data": {
      "text/plain": [
       "[{'fname': 'test_0',\n",
       "  'summary1': '#Person1# asks Ms. Dawson to take a dictation for him and asks her to send an intra-office memorandum to all employees by this afternoon. The memo says the use of Instant Message programs by employees during working hours is strictly prohibited and applies to internal and external communications. Any employee who persists in using Instant Messaging will first receive a warning and be placed on probation, then face termination.',\n",
       "  'summary2': '#Person1# asks Ms. Dawson to take a dictation of the company policy and asks her to send it out as an intra-office memorandum to all employees by this afternoon.',\n",
       "  'summary3': '#Person1# asks Ms. Dawson to take a dictation for him and asks her to send an intra-office memorandum to all employees by this afternoon. The memo says the use of Instant Message programs is strictly prohibited and applies to internal and external communications. Any employee who persists in using Instant Messaging will first receive a warning and be placed on probation, and at second offense, the employee will face termination.'},\n",
       " {'fname': 'test_100',\n",
       "  'summary1': \"#Person1# and #Person2# are talking about the presidential election. They both voted for Trump but they don't think he is the right person for the job. They will vote for Biden.\",\n",
       "  'summary2': '#Person1# cannot imagine if Trump were to be their President again, while #Person2# has nothing but faith in Trump. They both think he is not the right person.',\n",
       "  'summary3': '#Person1# and #Person2# are talking about the president nomination. They both think Trump is not the right person for the job. They will vote for Biden.'},\n",
       " {'fname': 'test_101',\n",
       "  'summary1': \"#Person1# hasn't used an ATM before and asks #Person2# how to use it. #Person 2# tells #Person1 #Person 1# to slide the card into the machine, type the PIN, and click on the option.\",\n",
       "  'summary2': \"#Person1# hasn't used an ATM before and asks #Person2# how to use it. #Person 2# tells #Person1 #Person 1# to slide the card into the machine, type the PIN, and click on the option.\",\n",
       "  'summary3': \"#Person1# hasn't used an ATM before and asks #Person2# how to use it. #Person 2# tells #Person1 #Person 1# to slide the card into the machine, type the PIN, and click on the option.\"},\n",
       " {'fname': 'test_102',\n",
       "  'summary1': \"Susan Miller asks John where the memo about office procedures is but John doesn't know. Susan will give her secretary a copy.\",\n",
       "  'summary2': \"Susan Miller asks John where the memo about office procedures is but John doesn't know. Susan will give her secretary a copy.\",\n",
       "  'summary3': \"Susan Miller asks John where the memo about office procedures is but John doesn't know. Susan will give her secretary a copy.\"},\n",
       " {'fname': 'test_103',\n",
       "  'summary1': '#Person1# invites Lily to the picnic this weekend. They will go to the river, have supper, and wear comfortable clothes and good shoes.',\n",
       "  'summary2': '#Person1# invites Lily to the picnic this weekend. They will go to the river, have supper, and wear comfortable clothes and good shoes.',\n",
       "  'summary3': '#Person1# invites Lily to the picnic this weekend. They will go to the river, have supper, and wear comfortable clothes and good shoes.'}]"
      ]
     },
     "execution_count": 139,
     "metadata": {},
     "output_type": "execute_result"
    }
   ],
   "source": [
    "result_dict['topic'][:5]"
   ]
  },
  {
   "cell_type": "code",
   "execution_count": 140,
   "id": "1c4eca0b-fddc-4b22-98b7-99f123911b94",
   "metadata": {},
   "outputs": [],
   "source": [
    "import json\n",
    "list_method = ['baseline', 'topic', 'length', 'topic-length', 'length-topic']\n",
    "for i in list_method:\n",
    "    with open(f\"./result/{i}.json\", \"w\") as outfile:\n",
    "        json.dump(result_dict[i], outfile)"
   ]
  },
  {
   "cell_type": "code",
   "execution_count": null,
   "id": "940b200e-0143-4519-bb67-7758f27b51c9",
   "metadata": {},
   "outputs": [],
   "source": []
  }
 ],
 "metadata": {
  "kernelspec": {
   "display_name": "Python 3 (ipykernel)",
   "language": "python",
   "name": "python3"
  },
  "language_info": {
   "codemirror_mode": {
    "name": "ipython",
    "version": 3
   },
   "file_extension": ".py",
   "mimetype": "text/x-python",
   "name": "python",
   "nbconvert_exporter": "python",
   "pygments_lexer": "ipython3",
   "version": "3.10.6"
  }
 },
 "nbformat": 4,
 "nbformat_minor": 5
}
