{
 "cells": [
  {
   "cell_type": "code",
   "execution_count": 1,
   "id": "c1758596-23c5-4005-b7d4-164cc2a51b5b",
   "metadata": {},
   "outputs": [],
   "source": [
    "import os"
   ]
  },
  {
   "cell_type": "code",
   "execution_count": 2,
   "id": "42d806af-b53e-4f6d-ae25-fc5515f54db4",
   "metadata": {},
   "outputs": [],
   "source": [
    "# !rm -rf ./output/topic-length/gen_samples/.ipynb_checkpoints"
   ]
  },
  {
   "cell_type": "code",
   "execution_count": 3,
   "id": "31b5f6cf-92b8-47e9-8cfb-d8831c02807e",
   "metadata": {},
   "outputs": [],
   "source": [
    "def list_all_file(path):\n",
    "    dir_list = os.listdir(path)\n",
    "    sort_dir_list = sorted(dir_list)\n",
    "    return sort_dir_list"
   ]
  },
  {
   "cell_type": "code",
   "execution_count": 4,
   "id": "84c32e64-b624-4ad2-b973-ce6ad7a7b277",
   "metadata": {},
   "outputs": [],
   "source": [
    "def extract_file(file_name):\n",
    "    with open(file_name) as f:\n",
    "        lines = f.readlines()\n",
    "    particular_value = 'Generate Summary:\\n'\n",
    "    result = []\n",
    "    temp_list = []\n",
    "    for i in lines:\n",
    "        if i == particular_value:\n",
    "            temp_list.append(i)\n",
    "            result.append(temp_list)\n",
    "            temp_list = []\n",
    "        else:\n",
    "            temp_list.append(i)\n",
    "    # print(temp_list)\n",
    "    generate = temp_list[0]\n",
    "    return generate"
   ]
  },
  {
   "cell_type": "code",
   "execution_count": 5,
   "id": "d079f72a-c811-4a70-b247-1e16a35259cd",
   "metadata": {},
   "outputs": [],
   "source": [
    "def make_name(path, filename):\n",
    "    name, sum = filename.split('_sum')\n",
    "    summ, _ = sum.split('.txt')\n",
    "    summary = \"summary\" + summ\n",
    "    return name, summary"
   ]
  },
  {
   "cell_type": "code",
   "execution_count": 6,
   "id": "aba9bf3f-e429-44bb-bc8b-5d4e372f7896",
   "metadata": {},
   "outputs": [],
   "source": [
    "def build_result(path, filename):\n",
    "    name, summary = make_name(path, filename)\n",
    "    local_path = path + filename\n",
    "    texts = extract_file(local_path)\n",
    "    return name, summary, texts"
   ]
  },
  {
   "cell_type": "code",
   "execution_count": 7,
   "id": "cae0d97a-9ae2-405d-8f79-b9a220256126",
   "metadata": {},
   "outputs": [
    {
     "name": "stdout",
     "output_type": "stream",
     "text": [
      "Current Directory /home/worachotn/work/TL-BART/analysis\n"
     ]
    }
   ],
   "source": [
    "path = os.getcwd()\n",
    "print(\"Current Directory\", path)\n",
    " \n",
    "# prints parent directory\n",
    "parent_path = os.path.abspath(os.path.join(path, os.pardir))"
   ]
  },
  {
   "cell_type": "code",
   "execution_count": 8,
   "id": "0b1eafc0-1e94-4d6a-81aa-4ab0a815e917",
   "metadata": {},
   "outputs": [],
   "source": [
    "# list_method = ['1-bart-baseline', '2-bart-length', '4-bart-topic-length', '5-bart-length-topic'\n",
    "#                , '2-bart-length-tagger', '4-bart-topic-length-tagger', '5-bart-length-topic-tagger']\n",
    "list_method = ['4-bart-topic-length', '4-bart-topic-length-tagger']\n",
    "result_dict = {}\n",
    "list_dir = []\n",
    "for i in list_method:\n",
    "    deep_path = parent_path + \"/output/\" + i + \"/gen_samples/\"\n",
    "    dir_list = os.listdir(deep_path)\n",
    "    list_dir.append(deep_path)\n",
    "    # print(deep_path)\n",
    "    sort_dir_list = sorted(dir_list)\n",
    "    # print(sort_dir_list[:5])\n",
    "    # nums = []\n",
    "    # sums = []\n",
    "    # gens = []\n",
    "    keep = []\n",
    "    for j in range(0,len(sort_dir_list),3):\n",
    "        method_dict = {}\n",
    "        try:\n",
    "            # print(j)\n",
    "            num1, sum1, gen1 = build_result(deep_path, sort_dir_list[j])\n",
    "            num2, sum2, gen2 = build_result(deep_path, sort_dir_list[j+1])\n",
    "            num3, sum3, gen3 = build_result(deep_path, sort_dir_list[j+2])\n",
    "            method_dict['fname'] = num1\n",
    "            # print(num1)\n",
    "            method_dict['gen_' + sum1] = gen1\n",
    "            method_dict['gen_' + sum2] = gen2\n",
    "            method_dict['gen_' + sum3] = gen3\n",
    "        except:\n",
    "            pass\n",
    "        keep.append(method_dict)\n",
    "    result_dict[i] = keep    "
   ]
  },
  {
   "cell_type": "code",
   "execution_count": 9,
   "id": "1be89a18-f215-4941-bc12-05b1caf6cc61",
   "metadata": {},
   "outputs": [
    {
     "data": {
      "text/plain": [
       "[{'fname': 'test_0',\n",
       "  'gen_summary1': '#Person1# asks Ms. Dawson to take a dictation for him and tells her that the use of Instant Message programs by employees during working hours is strictly prohibited. The policy applies to internal and external communications and any employee who persists in using Instant Messaging will be placed on probation.',\n",
       "  'gen_summary2': '#Person1# asks Ms. Dawson to take a dictation for him and tells her that the use of Instant Message programs by employees during working hours is strictly prohibited. The policy applies to internal and external communications and any employee who persists in using Instant Messaging will first receive a warning and be placed on probation, and at second offense, the employee will face termination.',\n",
       "  'gen_summary3': '#Person1# asks Ms. Dawson to take a dictation for him and tells her that all office communications are restricted to email correspondence and official memos and the use of Instant Message programs is strictly prohibited. Any employee who persists in using Instant Messaging will first receive a warning and be placed on probation.'},\n",
       " {'fname': 'test_100',\n",
       "  'gen_summary1': \"#Person1# and #Person2# are talking about the presidential election. They both support Trump but don't think he is the right person.\",\n",
       "  'gen_summary2': \"#Person1# and #Person2# both voted for Obama but they don't think he is the right person to be President again. They will vote for Biden.\",\n",
       "  'gen_summary3': \"#Person1# and #Person2# are talking about the presidential nomination of Trump and Biden. They both think he isn't the right person.\"},\n",
       " {'fname': 'test_101',\n",
       "  'gen_summary1': \"#Person2# teaches #Person1# how to use the ATM and tells #Person 1# it's pretty easy.\",\n",
       "  'gen_summary2': '#Person2# teaches #Person1# how to use the ATM, which is a new experience.',\n",
       "  'gen_summary3': '#Person1# is not sure how to use the ATM. #Person2# teaches #Person1 # how to do it and shows the steps.'},\n",
       " {'fname': 'test_102',\n",
       "  'gen_summary1': \"Susan asks John where the memo about office procedures is. John doesn't know.\",\n",
       "  'gen_summary2': \"Susan asks John where the memo about office procedures is but John doesn't know.\",\n",
       "  'gen_summary3': 'Susan asks John where the memo about office procedures is.'},\n",
       " {'fname': 'test_103',\n",
       "  'gen_summary1': '#Person1# invites Lily to the picnic this weekend.',\n",
       "  'gen_summary2': '#Person1# invites Lily to the picnic and tells her what to bring. Lily agrees.',\n",
       "  'gen_summary3': '#Person1# invites Lily to the picnic and tells her what to bring.'},\n",
       " {'fname': 'test_104',\n",
       "  'gen_summary1': '#Person2# tells #Person1# Beijingers are distinguished for their warmth and hospitality, but #Person2 # feels hazy about how to behave appropriately at a Chinese table. #Person 1# tells that there are a multitude of rules that foreigners might never know until they were told.',\n",
       "  'gen_summary2': '#Person2# tells #Person1# Beijingers are distinguished for their warmth and hospitality, but #Person2 # feels hazy about how to behave appropriately at a Chinese table.',\n",
       "  'gen_summary3': '#Person2# tells #Person1# Beijingers are distinguished for their warmth and hospitality, but #Person2 # feels hazy about how to behave appropriately at a Chinese table. #Person 1# tells that there are many rules that foreigners might never know.'},\n",
       " {'fname': 'test_105',\n",
       "  'gen_summary1': 'Mary tells Frank she spends a lot of time watching movies in her spare time. Frank and Mary both like movies of different genres. Mary usually rents movies at Movie Salon.',\n",
       "  'gen_summary2': 'Mary tells Frank she spends a lot of time watching movies in her spare time. Frank and Mary both like movies of different genres. Mary usually rents movies at Movie Salon.',\n",
       "  'gen_summary3': 'Mary tells Frank she spends a lot of time watching movies in her spare time. Frank and Mary both like movies of different genres. Mary usually rents movies at Movie Salon.'},\n",
       " {'fname': 'test_106',\n",
       "  'gen_summary1': \"#Person2# thought about joining the green party but didn't have enough time. #Person1# thinks the green parties have no chance of winning an election but smaller political and pressure groups can often influence large political parties.\",\n",
       "  'gen_summary2': \"#Person2# thought about joining the green party but didn't have enough time. #Person1# thinks the green parties have no chance of winning an election.\",\n",
       "  'gen_summary3': \"#Person2# thought about joining the green party but didn't have enough time. #Person1# thinks the green parties have no chance of winning an election but smaller political and pressure groups can often influence large political parties.\"},\n",
       " {'fname': 'test_107',\n",
       "  'gen_summary1': '#Person1# apologizes to Mr. Wilson for the mistakes in goods and promises to improve the package of their exported goods in future delivery.',\n",
       "  'gen_summary2': '#Person1# apologizes to Mr. Wilson for the mistakes in goods and promises to improve the package of their exported goods.',\n",
       "  'gen_summary3': '#Person1# apologizes to Mr. Wilson for the mistakes in goods and promises to improve the package of their exported goods.'},\n",
       " {'fname': 'test_108',\n",
       "  'gen_summary1': '#Person2# saw the robbery and tells #Person1# the guy was wearing a mask and he came in alone.',\n",
       "  'gen_summary2': '#Person2# tells #Person1# the robber was wearing a mask and he came in alone. They will go to the station for more questioning.',\n",
       "  'gen_summary3': '#Person2# witnessed the robbery and tells #Person1# the robber was alone and wore a mask.'}]"
      ]
     },
     "execution_count": 9,
     "metadata": {},
     "output_type": "execute_result"
    }
   ],
   "source": [
    "# 4-bart-topic-length\n",
    "result_dict[list_method[0]][:10]"
   ]
  },
  {
   "cell_type": "code",
   "execution_count": 10,
   "id": "947978b7-cd3d-46aa-92d0-9786637670c0",
   "metadata": {},
   "outputs": [
    {
     "data": {
      "text/plain": [
       "[{'fname': 'test_0',\n",
       "  'gen_summary1': '#Person1# asks Ms. Dawson to take a dictation for him and tells her that the use of Instant Message programs by employees during working hours is strictly prohibited. The memo applies to internal and external communications and any employee who persists in using Instant Messaging will face termination.',\n",
       "  'gen_summary2': '#Person1# asks Ms. Dawson to take a dictation for him and tells her that the use of Instant Message programs by employees during working hours is strictly prohibited. The policy applies to internal and external communications and any employee who persists in using Instant Messaging will be placed on probation.',\n",
       "  'gen_summary3': '#Person1# asks Ms. Dawson to take a dictation for him and tells her that the use of Instant Message programs by employees during working hours is strictly prohibited and applies to internal and external communications.'},\n",
       " {'fname': 'test_100',\n",
       "  'gen_summary1': \"#Person1# and #Person2# are talking about the presidential election. They both voted for Trump but they don't think he's the right person.\",\n",
       "  'gen_summary2': '#Person1# and #Person2# both voted for Obama. #Person 2# has nothing but faith in Trump while #Person 1# will vote for Biden.',\n",
       "  'gen_summary3': \"#Person1# and #Person2# both voted for Trump. #Person3# doesn't think he is the right person for president but will vote for Biden.\"},\n",
       " {'fname': 'test_101',\n",
       "  'gen_summary1': '#Person2# shows #Person1# how to use the ATM, which is a step-by-step process.',\n",
       "  'gen_summary2': '#Person2# teaches #Person1# how to use the ATM.',\n",
       "  'gen_summary3': '#Person1# is not sure how to use the ATM. #Person2# teaches #Person 1# how to do it and shows the steps.'},\n",
       " {'fname': 'test_102',\n",
       "  'gen_summary1': \"Susan asks John where the memo about office procedures is. John doesn't know.\",\n",
       "  'gen_summary2': \"Susan asks John where the memo about office procedures is but John doesn't know.\",\n",
       "  'gen_summary3': 'Susan asks John where the memo about office procedures is.'},\n",
       " {'fname': 'test_103',\n",
       "  'gen_summary1': '#Person1# invites Lily to the picnic this weekend.',\n",
       "  'gen_summary2': '#Person1# invites Lily to the picnic and tells her what to bring. Lily agrees.',\n",
       "  'gen_summary3': '#Person1# invites Lily to a picnic and tells her what to bring.'},\n",
       " {'fname': 'test_104',\n",
       "  'gen_summary1': '#Person2# has been to a Chinese feast for two years but still feels hazy about how to behave appropriately at a Chinese table. #Person1# tells #Person2 # there are a multitude of rules that foreigners might never know until they were told.',\n",
       "  'gen_summary2': '#Person2# has been invited to a Chinese feast for two years and is proficient in using chopsticks. #Person1# says there are a multitude of rules that foreigners might never know until they were told, such as the position of chopsticks and table etiquette.',\n",
       "  'gen_summary3': '#Person2# has been invited to a Chinese feast for two years but still feels hazy about how to behave appropriately at a Chinese table. #Person1# tells #Person2 # there are a multitude of rules that foreigners might never know until they were told.'},\n",
       " {'fname': 'test_105',\n",
       "  'gen_summary1': 'Mary tells Frank she spends a lot of time watching movies in her spare time. Frank and Mary both like different genres of movies. Mary usually rents movies at Movie Salon.',\n",
       "  'gen_summary2': 'Frank and Mary talk about the way they spend their spare time watching movies. Frank likes whichever movie there is, while Mary likes thrillers. Mary usually rents movies at Movie Salon.',\n",
       "  'gen_summary3': 'Frank and Mary are talking about their hobbies. Mary likes watching movies in her spare time and she usually rents movies at Movie Salon. Frank may sign up for its membership.'},\n",
       " {'fname': 'test_106',\n",
       "  'gen_summary1': \"#Person2# thought about joining the green party but #Person1# thinks the party won't win an election and smaller political and pressure groups can often influence large political parties.\",\n",
       "  'gen_summary2': '#Person2# thought about joining the green party but #Person1# thinks the party has no chance of winning an election and smaller political and pressure groups can influence large parties.',\n",
       "  'gen_summary3': \"#Person2# thought about joining the green party but #Person1# thinks the party won't win an election and smaller political and pressure groups can often influence large political parties.\"},\n",
       " {'fname': 'test_107',\n",
       "  'gen_summary1': '#Person1# apologizes for the mistakes in goods and promises to improve the package of their exported goods in future delivery.',\n",
       "  'gen_summary2': '#Person1# apologizes to Mr. Wilson for the mistakes in goods and promises to improve the package of their exported goods.',\n",
       "  'gen_summary3': '#Person1# apologizes for the mistakes in goods and promises to improve the package of their exported goods in future delivery.'},\n",
       " {'fname': 'test_108',\n",
       "  'gen_summary1': '#Person2# tells #Person1# the robber was wearing a mask and he came in alone. #Person2 # will go to the station for more questioning.',\n",
       "  'gen_summary2': '#Person2# witnessed the bank robbery and tells #Person1# the robber was wearing a mask. #Person2 # will be taken to the station for more questioning.',\n",
       "  'gen_summary3': '#Person2# witnessed the robbery and tells #Person1# the robber was wearing a mask. #Person 1# asks for more questioning.'}]"
      ]
     },
     "execution_count": 10,
     "metadata": {},
     "output_type": "execute_result"
    }
   ],
   "source": [
    "# 4-bart-topic-length-tagger\n",
    "result_dict[list_method[1]][:10]"
   ]
  },
  {
   "cell_type": "code",
   "execution_count": 11,
   "id": "1c4eca0b-fddc-4b22-98b7-99f123911b94",
   "metadata": {},
   "outputs": [
    {
     "ename": "FileNotFoundError",
     "evalue": "[Errno 2] No such file or directory: './result/baseline.json'",
     "output_type": "error",
     "traceback": [
      "\u001b[0;31m---------------------------------------------------------------------------\u001b[0m",
      "\u001b[0;31mFileNotFoundError\u001b[0m                         Traceback (most recent call last)",
      "Cell \u001b[0;32mIn[11], line 4\u001b[0m\n\u001b[1;32m      2\u001b[0m list_method \u001b[38;5;241m=\u001b[39m [\u001b[38;5;124m'\u001b[39m\u001b[38;5;124mbaseline\u001b[39m\u001b[38;5;124m'\u001b[39m, \u001b[38;5;124m'\u001b[39m\u001b[38;5;124mtopic\u001b[39m\u001b[38;5;124m'\u001b[39m, \u001b[38;5;124m'\u001b[39m\u001b[38;5;124mlength\u001b[39m\u001b[38;5;124m'\u001b[39m, \u001b[38;5;124m'\u001b[39m\u001b[38;5;124mtopic-length\u001b[39m\u001b[38;5;124m'\u001b[39m, \u001b[38;5;124m'\u001b[39m\u001b[38;5;124mlength-topic\u001b[39m\u001b[38;5;124m'\u001b[39m]\n\u001b[1;32m      3\u001b[0m \u001b[38;5;28;01mfor\u001b[39;00m i \u001b[38;5;129;01min\u001b[39;00m list_method:\n\u001b[0;32m----> 4\u001b[0m     \u001b[38;5;28;01mwith\u001b[39;00m \u001b[38;5;28;43mopen\u001b[39;49m\u001b[43m(\u001b[49m\u001b[38;5;124;43mf\u001b[39;49m\u001b[38;5;124;43m\"\u001b[39;49m\u001b[38;5;124;43m./result/\u001b[39;49m\u001b[38;5;132;43;01m{\u001b[39;49;00m\u001b[43mi\u001b[49m\u001b[38;5;132;43;01m}\u001b[39;49;00m\u001b[38;5;124;43m.json\u001b[39;49m\u001b[38;5;124;43m\"\u001b[39;49m\u001b[43m,\u001b[49m\u001b[43m \u001b[49m\u001b[38;5;124;43m\"\u001b[39;49m\u001b[38;5;124;43mw\u001b[39;49m\u001b[38;5;124;43m\"\u001b[39;49m\u001b[43m)\u001b[49m \u001b[38;5;28;01mas\u001b[39;00m outfile:\n\u001b[1;32m      5\u001b[0m         json\u001b[38;5;241m.\u001b[39mdump(result_dict[i], outfile)\n",
      "File \u001b[0;32m/usr/local/lib/python3.10/dist-packages/IPython/core/interactiveshell.py:284\u001b[0m, in \u001b[0;36m_modified_open\u001b[0;34m(file, *args, **kwargs)\u001b[0m\n\u001b[1;32m    277\u001b[0m \u001b[38;5;28;01mif\u001b[39;00m file \u001b[38;5;129;01min\u001b[39;00m {\u001b[38;5;241m0\u001b[39m, \u001b[38;5;241m1\u001b[39m, \u001b[38;5;241m2\u001b[39m}:\n\u001b[1;32m    278\u001b[0m     \u001b[38;5;28;01mraise\u001b[39;00m \u001b[38;5;167;01mValueError\u001b[39;00m(\n\u001b[1;32m    279\u001b[0m         \u001b[38;5;124mf\u001b[39m\u001b[38;5;124m\"\u001b[39m\u001b[38;5;124mIPython won\u001b[39m\u001b[38;5;124m'\u001b[39m\u001b[38;5;124mt let you open fd=\u001b[39m\u001b[38;5;132;01m{\u001b[39;00mfile\u001b[38;5;132;01m}\u001b[39;00m\u001b[38;5;124m by default \u001b[39m\u001b[38;5;124m\"\u001b[39m\n\u001b[1;32m    280\u001b[0m         \u001b[38;5;124m\"\u001b[39m\u001b[38;5;124mas it is likely to crash IPython. If you know what you are doing, \u001b[39m\u001b[38;5;124m\"\u001b[39m\n\u001b[1;32m    281\u001b[0m         \u001b[38;5;124m\"\u001b[39m\u001b[38;5;124myou can use builtins\u001b[39m\u001b[38;5;124m'\u001b[39m\u001b[38;5;124m open.\u001b[39m\u001b[38;5;124m\"\u001b[39m\n\u001b[1;32m    282\u001b[0m     )\n\u001b[0;32m--> 284\u001b[0m \u001b[38;5;28;01mreturn\u001b[39;00m \u001b[43mio_open\u001b[49m\u001b[43m(\u001b[49m\u001b[43mfile\u001b[49m\u001b[43m,\u001b[49m\u001b[43m \u001b[49m\u001b[38;5;241;43m*\u001b[39;49m\u001b[43margs\u001b[49m\u001b[43m,\u001b[49m\u001b[43m \u001b[49m\u001b[38;5;241;43m*\u001b[39;49m\u001b[38;5;241;43m*\u001b[39;49m\u001b[43mkwargs\u001b[49m\u001b[43m)\u001b[49m\n",
      "\u001b[0;31mFileNotFoundError\u001b[0m: [Errno 2] No such file or directory: './result/baseline.json'"
     ]
    }
   ],
   "source": [
    "import json\n",
    "list_method = ['baseline', 'topic', 'length', 'topic-length', 'length-topic']\n",
    "for i in list_method:\n",
    "    with open(f\"./result/{i}.json\", \"w\") as outfile:\n",
    "        json.dump(result_dict[i], outfile)"
   ]
  },
  {
   "cell_type": "code",
   "execution_count": null,
   "id": "940b200e-0143-4519-bb67-7758f27b51c9",
   "metadata": {},
   "outputs": [],
   "source": []
  }
 ],
 "metadata": {
  "kernelspec": {
   "display_name": "Python 3 (ipykernel)",
   "language": "python",
   "name": "python3"
  },
  "language_info": {
   "codemirror_mode": {
    "name": "ipython",
    "version": 3
   },
   "file_extension": ".py",
   "mimetype": "text/x-python",
   "name": "python",
   "nbconvert_exporter": "python",
   "pygments_lexer": "ipython3",
   "version": "3.10.6"
  }
 },
 "nbformat": 4,
 "nbformat_minor": 5
}
